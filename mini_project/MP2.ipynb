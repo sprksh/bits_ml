{
 "cells": [
  {
   "cell_type": "code",
   "execution_count": 275,
   "metadata": {},
   "outputs": [
    {
     "name": "stdout",
     "output_type": "stream",
     "text": [
      "   CO(GT)  PT08.S1(CO)   C6H6(GT)  PT08.S2(NMHC)  NOx(GT)  NO2(GT)  \\\n",
      "0     2.6      1360.00  11.881723        1045.50    166.0    113.0   \n",
      "1     2.0      1292.25   9.397165         954.75    103.0     92.0   \n",
      "2     2.2      1402.00   8.997817         939.25    131.0    114.0   \n",
      "3     2.2      1375.50   9.228796         948.25    172.0    122.0   \n",
      "4     1.6      1272.25   6.518224         835.50    131.0    116.0   \n",
      "\n",
      "   PT08.S4(NO2)  PT08.S5(O3)   DateInt  hour  week  month  \n",
      "0       1692.00      1267.50  20040310    18    11      3  \n",
      "1       1558.75       972.25  20040310    19    11      3  \n",
      "2       1554.50      1074.00  20040310    20    11      3  \n",
      "3       1583.75      1203.25  20040310    21    11      3  \n",
      "4       1490.00      1110.00  20040310    22    11      3  \n"
     ]
    },
    {
     "data": {
      "text/plain": [
       "\"\\nimport seaborn as sns\\n#sns.boxplot(data['NOx(GT)'])\\n\\nboxplot = data.boxplot()#(column=['NOx(GT)', 'CO(GT)', 'PT08.S1(CO)'])\\n#boxplot = data.boxplot()(column=['NOx(GT)','CO(GT)'])\\n\\nQ1 = df.quantile(0.25)\\nQ3 = df.quantile(0.75)\\nIQR = Q3 - Q1\\nprint(IQR)\\n\""
      ]
     },
     "execution_count": 275,
     "metadata": {},
     "output_type": "execute_result"
    },
    {
     "data": {
      "image/png": "[encoded data removed]",
      "text/plain": [
       "<Figure size 432x288 with 2 Axes>"
      ]
     },
     "metadata": {
      "needs_background": "light"
     },
     "output_type": "display_data"
    }
   ],
   "source": [
    "#q2\n",
    "\n",
    "import pandas as pd\n",
    "import datetime\n",
    "import numpy as np\n",
    "import seaborn as sns\n",
    "df = pd.read_excel('Desktop/Machine Learning/AirQuality.xlsx', na_values = '-200.0')\n",
    "\n",
    "#create some new date-time features\n",
    "corr = df.corr()\n",
    "sns.heatmap(corr, xticklabels=corr.columns,yticklabels=corr.columns)\n",
    "\n",
    "df['DateInt'] = pd.to_datetime(df['Date']).dt.strftime('%Y%m%d').astype(int)\n",
    "df['hour'] =pd.to_datetime(df['Time'], format='%H:%M:%S').dt.hour\n",
    "df['week'] = df['Date'].dt.week\n",
    "df['month'] = df['Date'].dt.month\n",
    "\n",
    "\n",
    "#df = df.drop(['Date', 'Time','NMHC(GT)','PT08.S4(NO2)','PT08.S3(NOx)','PT08.S5(O3)','C6H6(GT)'], axis=1)\n",
    "df = df.drop(['Date', 'Time','T','RH','AH','PT08.S3(NOx)','NMHC(GT)'], axis=1)\n",
    "\n",
    "\n",
    "\n",
    "#df[df < 0] = df.mean()\n",
    "df.fillna(df.mean(), inplace=True)\n",
    "dfy = df.drop(['CO(GT)','hour','week','month','DateInt'],axis=1)\n",
    "\n",
    "print(df.head(5))\n",
    "\n",
    "#print(df.describe())\n",
    "\n",
    "\n",
    "#corr = df.corr()\n",
    "#print(corr)\n",
    "#sns.heatmap(corr, xticklabels=corr.columns,yticklabels=corr.columns)\n",
    "\n",
    "#sns.pairplot(df)\n",
    "\n",
    "'''\n",
    "#data.plot()\n",
    "df.reset_index().plot.scatter(x = 'index', y = 'CO(GT)')\n",
    "df.reset_index().plot.scatter(x = 'index', y = 'PT08.S1(CO)')\n",
    "df.reset_index().plot.scatter(x = 'index', y = 'PT08.S1(CO)')\n",
    "df.reset_index().plot.scatter(x = 'index', y = 'C6H6(GT)')\n",
    "df.reset_index().plot.scatter(x = 'index', y = 'PT08.S2(NMHC)')\n",
    "df.reset_index().plot.scatter(x = 'index', y = 'NOx(GT)')\n",
    "df.reset_index().plot.scatter(x = 'index', y = 'PT08.S3(NOx)')\n",
    "df.reset_index().plot.scatter(x = 'index', y = 'PT08.S4(NO2)')\n",
    "df.reset_index().plot.scatter(x = 'index', y = 'NO2(GT)')\n",
    "df.reset_index().plot.scatter(x = 'index', y = 'PT08.S5(O3)')\n",
    "df.reset_index().plot.scatter(x = 'index', y = 'T')\n",
    "df.reset_index().plot.scatter(x = 'index', y = 'RH')\n",
    "df.reset_index().plot.scatter(x = 'index', y = 'AH')\n",
    "'''\n",
    "\n",
    "'''\n",
    "import seaborn as sns\n",
    "#sns.boxplot(data['NOx(GT)'])\n",
    "\n",
    "boxplot = data.boxplot()#(column=['NOx(GT)', 'CO(GT)', 'PT08.S1(CO)'])\n",
    "#boxplot = data.boxplot()(column=['NOx(GT)','CO(GT)'])\n",
    "\n",
    "Q1 = df.quantile(0.25)\n",
    "Q3 = df.quantile(0.75)\n",
    "IQR = Q3 - Q1\n",
    "print(IQR)\n",
    "'''\n",
    "\n"
   ]
  },
  {
   "cell_type": "code",
   "execution_count": 276,
   "metadata": {},
   "outputs": [
    {
     "name": "stdout",
     "output_type": "stream",
     "text": [
      "score=  0.7885529009455291\n",
      "slope=  [[ 0.00094922  0.13326161 -0.00197388  0.00270604  0.0042115   0.00060081\n",
      "  -0.00041173]]\n",
      "rms=  0.6101576938632861\n",
      "r2:  0.7885529009455291\n"
     ]
    }
   ],
   "source": [
    "#Simple Linear Regression\n",
    "\n",
    "from sklearn.linear_model import LinearRegression\n",
    "from sklearn.metrics import mean_squared_error, r2_score\n",
    "from sklearn.feature_selection import f_regression\n",
    "from sklearn.model_selection import train_test_split\n",
    "import math\n",
    "\n",
    "y = df[['CO(GT)']]#.values.reshape(-1,1)\n",
    "X = dfy#.iloc[:,:].values.reshape(-1,1)\n",
    "\n",
    "X_train, X_test, y_train, y_test = train_test_split(X, y, test_size=0.70, random_state=42)\n",
    "\n",
    "reg = LinearRegression().fit(X_train,y_train)\n",
    "print ('score= ',reg.score(X_test,y_test))\n",
    "print ('slope= ',reg.coef_)\n",
    "p = reg.predict(X_test)\n",
    "print( 'rms= ',math.sqrt(mean_squared_error(y_test, p)))\n",
    "print('r2: ', r2_score(y_test, p))\n"
   ]
  },
  {
   "cell_type": "code",
   "execution_count": 277,
   "metadata": {},
   "outputs": [
    {
     "name": "stdout",
     "output_type": "stream",
     "text": [
      "score=  0.7325002373952301\n",
      "slope=  [-0.00112991  0.00023691  0.00183124  0.00338449  0.00015399  0.00025929\n",
      "  0.00043187]\n",
      "rms=  0.6862825033811631\n",
      "r2:  0.7325002373952302\n"
     ]
    },
    {
     "name": "stderr",
     "output_type": "stream",
     "text": [
      "/Users/pramanikpramanik/opt/anaconda3/lib/python3.7/site-packages/sklearn/utils/validation.py:724: DataConversionWarning: A column-vector y was passed when a 1d array was expected. Please change the shape of y to (n_samples, ), for example using ravel().\n",
      "  y = column_or_1d(y, warn=True)\n"
     ]
    }
   ],
   "source": [
    "#simple Linear Regression with Stochastic Gradient Descent\n",
    "\n",
    "import numpy as np\n",
    "from sklearn import linear_model\n",
    "\n",
    "clf = linear_model.SGDRegressor(max_iter=50000,tol= 0.00001,learning_rate ='constant',eta0 = 0.000000001)\n",
    "clf.fit(X_train,y_train)\n",
    "print ('score= ',clf.score(X_test,y_test))\n",
    "print ('slope= ',clf.coef_)\n",
    "g = clf.predict(X_test)\n",
    "print( 'rms= ',math.sqrt(mean_squared_error(y_test, g)))\n",
    "print('r2: ', r2_score(y_test,g))"
   ]
  },
  {
   "cell_type": "markdown",
   "metadata": {},
   "source": []
  },
  {
   "cell_type": "code",
   "execution_count": 288,
   "metadata": {},
   "outputs": [
    {
     "name": "stdout",
     "output_type": "stream",
     "text": [
      "(9357, 1)\n",
      "(9357, 7)\n",
      "[[-0.06050408]\n",
      " [ 0.98537834]\n",
      " [-0.01760226]\n",
      " [ 0.04919626]\n",
      " [ 0.73456383]\n",
      " [ 0.0449023 ]\n",
      " [-0.08218222]]\n",
      "cost:  372.3786270876868\n"
     ]
    },
    {
     "data": {
      "text/plain": [
       "Text(0, 0.5, 'Cost')"
      ]
     },
     "execution_count": 288,
     "metadata": {},
     "output_type": "execute_result"
    },
    {
     "data": {
      "image/png": "[encoded data removed]",
      "text/plain": [
       "<Figure size 432x288 with 1 Axes>"
      ]
     },
     "metadata": {
      "needs_background": "light"
     },
     "output_type": "display_data"
    }
   ],
   "source": [
    "# Linear Regression with Gradient Descent\n",
    "\n",
    "y = df[['CO(GT)']].values.reshape(-1,1)\n",
    "x = dfy.iloc[:,0:].values.reshape(-1,7)\n",
    "\n",
    "print (y.shape)\n",
    "print (x.shape)\n",
    "cost = np.ones(1000)\n",
    "\n",
    "def gradientDescent(x, y, theta, alpha, m, numIterations):\n",
    "    xTrans = x.transpose()\n",
    "    for i in range(0, numIterations):\n",
    "        hypothesis = np.dot(x, theta)\n",
    "        loss = hypothesis - y \n",
    "        cost[i] = np.sum(loss ** 2) / (2 * m)\n",
    "        #print(\"Iteration %d | Cost: %f\" % (i, cost[i]))\n",
    "        gradient = np.dot(xTrans, loss) / m \n",
    "        theta = theta - alpha * gradient\n",
    "    return theta\n",
    "\n",
    "print(gradientDescent(x,y,np.ones((7,1)),0.0000001,9357,1000))\n",
    "print ('cost: ',cost[999])\n",
    "import matplotlib.pyplot as plt\n",
    "cost = list(cost)\n",
    "n_iterations = [x for x in range(1,1001)]\n",
    "plt.plot(n_iterations, cost)\n",
    "plt.xlabel('No. of iterations')\n",
    "plt.ylabel('Cost')\n"
   ]
  },
  {
   "cell_type": "code",
   "execution_count": 1,
   "metadata": {},
   "outputs": [
    {
     "ename": "NameError",
     "evalue": "name 'y' is not defined",
     "output_type": "error",
     "traceback": [
      "\u001b[0;31m---------------------------------------------------------------------------\u001b[0m",
      "\u001b[0;31mNameError\u001b[0m                                 Traceback (most recent call last)",
      "\u001b[0;32m<ipython-input-1-f94da886755a>\u001b[0m in \u001b[0;36m<module>\u001b[0;34m\u001b[0m\n\u001b[1;32m     32\u001b[0m     \u001b[0;32mreturn\u001b[0m \u001b[0mtheta\u001b[0m\u001b[0;34m,\u001b[0m \u001b[0mcost\u001b[0m\u001b[0;34m\u001b[0m\u001b[0m\n\u001b[1;32m     33\u001b[0m \u001b[0;34m\u001b[0m\u001b[0m\n\u001b[0;32m---> 34\u001b[0;31m \u001b[0mprint\u001b[0m \u001b[0;34m(\u001b[0m\u001b[0my\u001b[0m\u001b[0;34m.\u001b[0m\u001b[0mshape\u001b[0m\u001b[0;34m[\u001b[0m\u001b[0;36m0\u001b[0m\u001b[0;34m]\u001b[0m\u001b[0;34m)\u001b[0m\u001b[0;34m\u001b[0m\u001b[0m\n\u001b[0m\u001b[1;32m     35\u001b[0m \u001b[0mprint\u001b[0m \u001b[0;34m(\u001b[0m\u001b[0mx\u001b[0m\u001b[0;34m.\u001b[0m\u001b[0mshape\u001b[0m\u001b[0;34m[\u001b[0m\u001b[0;36m1\u001b[0m\u001b[0;34m]\u001b[0m\u001b[0;34m)\u001b[0m\u001b[0;34m\u001b[0m\u001b[0m\n\u001b[1;32m     36\u001b[0m \u001b[0mtheta\u001b[0m\u001b[0;34m,\u001b[0m \u001b[0mcost\u001b[0m \u001b[0;34m=\u001b[0m \u001b[0mlinear_regression\u001b[0m\u001b[0;34m(\u001b[0m\u001b[0mx\u001b[0m\u001b[0;34m,\u001b[0m \u001b[0my\u001b[0m\u001b[0;34m,\u001b[0m \u001b[0;36m0.0001\u001b[0m\u001b[0;34m,\u001b[0m \u001b[0;36m1000\u001b[0m\u001b[0;34m)\u001b[0m\u001b[0;34m\u001b[0m\u001b[0m\n",
      "\u001b[0;31mNameError\u001b[0m: name 'y' is not defined"
     ]
    }
   ],
   "source": [
    "def hypothesis(theta, X, n):\n",
    "    h = np.ones((X.shape[0],1))\n",
    "    theta = theta.reshape(1,n+1)\n",
    "    for i in range(0,X.shape[0]):\n",
    "        h[i] = float(np.matmul(theta, X[i]))\n",
    "    h = h.reshape(X.shape[0])\n",
    "    return h\n",
    "\n",
    "def BGD(theta, alpha, num_iters, h, X, y, n):\n",
    "    cost = np.ones(num_iters)\n",
    "    for i in range(0,num_iters):\n",
    "        theta[0] = theta[0] - (alpha/X.shape[0]) * sum(h - y)\n",
    "        for j in range(1,n+1):\n",
    "            theta[j] = theta[j] - (alpha/X.shape[0]) *  sum((h-y) * X.transpose()[j])\n",
    "        h = hypothesis(theta, X, n)\n",
    "        cost[i] = (1/X.shape[0]) * 0.5 * sum(np.square(h - y))\n",
    "    theta = theta.reshape(1,n+1)\n",
    "    return theta, cost\n",
    "\n",
    "def linear_regression(X, y, alpha, num_iters):\n",
    "    n = X.shape[1]\n",
    "    one_column = np.ones((X.shape[0],1))\n",
    "    X = np.concatenate((one_column, X), axis = 1)\n",
    "    print (X.shape)\n",
    "    # initializing the parameter vector...\n",
    "    theta = np.zeros(n+1)\n",
    "    print(theta.shape)\n",
    "    # hypothesis calculation....\n",
    "    h = hypothesis(theta, X, n)\n",
    "    # returning the optimized parameters by Gradient Descent...\n",
    "    theta, cost = BGD(theta,alpha,num_iters,h,X,y,n)\n",
    "    return theta, cost\n",
    "\n",
    "print (y.shape[0])\n",
    "print (x.shape[1])\n",
    "theta, cost = linear_regression(x, y, 0.0001, 1000)"
   ]
  },
  {
   "cell_type": "code",
   "execution_count": null,
   "metadata": {},
   "outputs": [],
   "source": []
  },
  {
   "cell_type": "code",
   "execution_count": null,
   "metadata": {},
   "outputs": [],
   "source": []
  }
 ],
 "metadata": {
  "kernelspec": {
   "display_name": "Python 3",
   "language": "python",
   "name": "python3"
  },
  "language_info": {
   "codemirror_mode": {
    "name": "ipython",
    "version": 3
   },
   "file_extension": ".py",
   "mimetype": "text/x-python",
   "name": "python",
   "nbconvert_exporter": "python",
   "pygments_lexer": "ipython3",
   "version": "3.5.4"
  }
 },
 "nbformat": 4,
 "nbformat_minor": 2
}
