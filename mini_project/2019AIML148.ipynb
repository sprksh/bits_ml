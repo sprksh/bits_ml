{
 "cells": [
  {
   "cell_type": "code",
   "execution_count": 19,
   "metadata": {},
   "outputs": [
    {
     "name": "stdout",
     "output_type": "stream",
     "text": [
      "/usr/local/bin/python\n",
      "Data Summary\n",
      "            CO(GT)      NOx(GT)\n",
      "count  9357.000000  9357.000000\n",
      "mean      8.945478   205.344185\n",
      "std      12.610694   211.254046\n",
      "min       0.100000     2.000000\n",
      "25%       1.400000    34.000000\n",
      "50%       2.400000   136.000000\n",
      "75%       5.500000   281.500000\n",
      "max      32.293720  1479.000000\n"
     ]
    },
    {
     "data": {
      "image/png": "[encoded data removed]",
      "text/plain": [
       "<Figure size 432x288 with 1 Axes>"
      ]
     },
     "metadata": {
      "needs_background": "light"
     },
     "output_type": "display_data"
    }
   ],
   "source": [
    "# I have added all explanations and all the answers in proper commented blocks so as to\n",
    "# keep all things consolidated. Thats why I will not be adding any document file.\n",
    "# Both Q1 nad Q2 are solved in this file only.\n",
    "\n",
    "# Question 1\n",
    "\n",
    "# data importing\n",
    "!which python\n",
    "import pandas as pd\n",
    "data = pd.read_excel('./AirQuality.xlsx')\n",
    "data.fillna(data.mean())\n",
    "\n",
    "df = data[['CO(GT)','NOx(GT)']].copy()\n",
    "\n",
    "df[df['NOx(GT)'] < 0] = df['NOx(GT)'].mean()\n",
    "df[df['CO(GT)'] < 0] = df['CO(GT)'].mean()\n",
    "df[df['CO(GT)'] > 20] = df['CO(GT)'].mean()\n",
    "\n",
    "print(\"Data Summary\")\n",
    "print(df.describe())\n",
    "\n",
    "# plotting CO and NO scatterplot to visualize the spread of data and if there can be a linear relationship\n",
    "ax2 = df.plot.scatter(y='CO(GT)',x='NOx(GT)')\n"
   ]
  },
  {
   "cell_type": "code",
   "execution_count": 50,
   "metadata": {},
   "outputs": [
    {
     "name": "stdout",
     "output_type": "stream",
     "text": [
      "slope:  0.005186838018710351\n",
      "intercept:  0.8722164819072276\n",
      "82.39109334243128\n",
      "CPU times: user 1.36 ms, sys: 437 µs, total: 1.8 ms\n",
      "Wall time: 1.47 ms\n"
     ]
    }
   ],
   "source": [
    "%%time\n",
    "# using numpy functions for establishing relationship\n",
    "\n",
    "import numpy as np\n",
    "\n",
    "\n",
    "b=df.loc[:,'CO(GT)'].values#.reshape(-1,1)\n",
    "a=df.loc[:,'NOx(GT)'].values#.reshape(-1,1)\n",
    "\n",
    "\n",
    "A = np.vstack([a, np.ones(len(a))]).T\n",
    "\n",
    "m, c = np.linalg.lstsq(A, b, rcond=None)[0]\n",
    "residual = np.linalg.lstsq(A, b, rcond=None)[1]\n",
    "\n",
    "print('slope: ',m)\n",
    "print('intercept: ',c)\n",
    "print(math.sqrt(residual[0]))"
   ]
  },
  {
   "cell_type": "code",
   "execution_count": null,
   "metadata": {},
   "outputs": [],
   "source": []
  },
  {
   "cell_type": "code",
   "execution_count": 49,
   "metadata": {},
   "outputs": [
    {
     "name": "stdout",
     "output_type": "stream",
     "text": [
      "Regression results from sk_learn library\n",
      "score=  0.581097016444281\n",
      "slope=  [[0.00518684]]\n",
      "intercept=  [0.87221648]\n",
      "rms=  0.8517496255468173\n",
      "r2 value: 0.581097016444281\n",
      "f-stats:  [12977.13982052]\n",
      "p-value:  [0.]\n",
      "CPU times: user 16.6 ms, sys: 3.23 ms, total: 19.9 ms\n",
      "Wall time: 17.7 ms\n"
     ]
    },
    {
     "name": "stderr",
     "output_type": "stream",
     "text": [
      "/Library/Frameworks/Python.framework/Versions/3.5/lib/python3.5/site-packages/sklearn/utils/validation.py:761: DataConversionWarning: A column-vector y was passed when a 1d array was expected. Please change the shape of y to (n_samples, ), for example using ravel().\n",
      "  y = column_or_1d(y, warn=True)\n"
     ]
    }
   ],
   "source": [
    "%%time\n",
    "# using Sklearn to establish relationship\n",
    "\n",
    "\n",
    "import math\n",
    "from sklearn.metrics import mean_squared_error, r2_score\n",
    "from sklearn.linear_model import LinearRegression\n",
    "from sklearn.feature_selection import f_regression\n",
    "\n",
    "y = df[['CO(GT)']]\n",
    "x = df[['NOx(GT)']]\n",
    "\n",
    "reg = LinearRegression().fit(x,y)\n",
    "print('Regression results from sk_learn library')\n",
    "print('score= ', reg.score(x,y))\n",
    "print('slope= ', reg.coef_)\n",
    "print('intercept= ',reg.intercept_)\n",
    "p = reg.predict(x)\n",
    "print( 'rms= ',math.sqrt(mean_squared_error(y, p)))\n",
    "r2 = r2_score(y,p)\n",
    "\n",
    "print('r2 value:', r2)\n",
    "\n",
    "f = f_regression(x, y, center=True)\n",
    "\n",
    "\n",
    "print('f-stats: ',f[0])\n",
    "print('p-value: ',f[1])\n",
    "\n",
    "# p-value for the coefficient being less than 0.05 can make us reject NULL hypothesis and we can confirm\n",
    "# that there is relationship\n"
   ]
  },
  {
   "cell_type": "code",
   "execution_count": 51,
   "metadata": {},
   "outputs": [
    {
     "name": "stdout",
     "output_type": "stream",
     "text": [
      "\n"
     ]
    }
   ],
   "source": [
    "print()"
   ]
  },
  {
   "cell_type": "code",
   "execution_count": 24,
   "metadata": {},
   "outputs": [],
   "source": [
    "# Q1.1\n",
    "# Plotting the two values with matplotlib, we find that the two variables seem to be fairly \n",
    "# linearly dependent.\n",
    "# So Graphically we can conclude that a linear regression model is appropriate to describe the relationship\n",
    "\n",
    "# Q1.2\n",
    "# Comparing Numpy vs SKlearn\n",
    "# All the packages are basically based on numpy\n",
    "# Time wise numpy is much faster as compared to sk_learn\n",
    "# However Numppy doesn't have pre-built functions so we have to implement everything manually.\n"
   ]
  },
  {
   "cell_type": "code",
   "execution_count": 27,
   "metadata": {},
   "outputs": [
    {
     "name": "stdout",
     "output_type": "stream",
     "text": [
      "   CO(GT)  PT08.S1(CO)   C6H6(GT)  PT08.S2(NMHC)  NOx(GT)  NO2(GT)  \\\n",
      "0     2.6      1360.00  11.881723        1045.50    166.0    113.0   \n",
      "1     2.0      1292.25   9.397165         954.75    103.0     92.0   \n",
      "2     2.2      1402.00   8.997817         939.25    131.0    114.0   \n",
      "3     2.2      1375.50   9.228796         948.25    172.0    122.0   \n",
      "4     1.6      1272.25   6.518224         835.50    131.0    116.0   \n",
      "\n",
      "   PT08.S4(NO2)  PT08.S5(O3)   DateInt  hour  week  month  \n",
      "0       1692.00      1267.50  20040310    18    11      3  \n",
      "1       1558.75       972.25  20040310    19    11      3  \n",
      "2       1554.50      1074.00  20040310    20    11      3  \n",
      "3       1583.75      1203.25  20040310    21    11      3  \n",
      "4       1490.00      1110.00  20040310    22    11      3  \n",
      "df.describe() result\n",
      "            CO(GT)  PT08.S1(CO)     C6H6(GT)  PT08.S2(NMHC)      NOx(GT)  \\\n",
      "count  9357.000000  9357.000000  9357.000000    9357.000000  9357.000000   \n",
      "mean      2.152750  1099.707856    10.082993     939.029205   246.881252   \n",
      "std       1.316068   212.796116     7.302474     261.557856   193.419417   \n",
      "min       0.100000   647.250000     0.149048     383.250000     2.000000   \n",
      "25%       1.200000   941.250000     4.591495     742.500000   112.000000   \n",
      "50%       2.152750  1074.500000     8.593367     923.250000   229.000000   \n",
      "75%       2.600000  1221.250000    13.636091    1104.750000   284.200000   \n",
      "max      11.900000  2039.750000    63.741476    2214.000000  1479.000000   \n",
      "\n",
      "           NO2(GT)  PT08.S4(NO2)  PT08.S5(O3)       DateInt         hour  \\\n",
      "count  9357.000000   9357.000000  9357.000000  9.357000e+03  9357.000000   \n",
      "mean    113.075515   1456.143486  1022.780725  2.004305e+07    11.498557   \n",
      "std      43.911095    339.365351   390.609000  4.041064e+03     6.923182   \n",
      "min       2.000000    551.000000   221.000000  2.004031e+07     0.000000   \n",
      "25%      85.900000   1241.500000   741.750000  2.004062e+07     5.000000   \n",
      "50%     113.075515   1456.143486   982.500000  2.004092e+07    11.000000   \n",
      "75%     133.000000   1662.000000  1255.250000  2.004123e+07    18.000000   \n",
      "max     339.700000   2775.000000  2522.750000  2.005040e+07    23.000000   \n",
      "\n",
      "              week        month  \n",
      "count  9357.000000  9357.000000  \n",
      "mean     26.284065     6.310356  \n",
      "std      15.257919     3.438160  \n",
      "min       1.000000     1.000000  \n",
      "25%      13.000000     3.000000  \n",
      "50%      26.000000     6.000000  \n",
      "75%      40.000000     9.000000  \n",
      "max      53.000000    12.000000  \n"
     ]
    },
    {
     "data": {
      "image/png": "[encoded data removed]",
      "text/plain": [
       "<Figure size 432x288 with 2 Axes>"
      ]
     },
     "metadata": {
      "needs_background": "light"
     },
     "output_type": "display_data"
    }
   ],
   "source": [
    "##############################################################\n",
    "\n",
    "# Q2\n",
    "\n",
    "import pandas as pd\n",
    "import datetime\n",
    "import numpy as np\n",
    "import seaborn as sns\n",
    "df = pd.read_excel('./AirQuality.xlsx', na_values = '-200.0')\n",
    "\n",
    "# create some new date-time features\n",
    "corr = df.corr()\n",
    "sns.heatmap(corr, xticklabels=corr.columns,yticklabels=corr.columns)\n",
    "\n",
    "df['DateInt'] = pd.to_datetime(df['Date']).dt.strftime('%Y%m%d').astype(int)\n",
    "df['hour'] =pd.to_datetime(df['Time'], format='%H:%M:%S').dt.hour\n",
    "df['week'] = df['Date'].dt.week\n",
    "df['month'] = df['Date'].dt.month\n",
    "\n",
    "df = df.drop(['Date', 'Time','T','RH','AH','PT08.S3(NOx)','NMHC(GT)'], axis=1)\n",
    "\n",
    "df.fillna(df.mean(), inplace=True)\n",
    "dfy = df.drop(['CO(GT)','hour','week','month','DateInt'], axis=1)\n",
    "\n",
    "print(df.head(5))\n",
    "\n",
    "print(\"df.describe() result\")\n",
    "print(df.describe())\n"
   ]
  },
  {
   "cell_type": "code",
   "execution_count": 55,
   "metadata": {},
   "outputs": [
    {
     "name": "stdout",
     "output_type": "stream",
     "text": [
      "score: 0.7885529009455294, \n",
      "slope: [[ 0.00094922  0.13326161 -0.00197388  0.00270604  0.0042115   0.00060081\n",
      "  -0.00041173]], \n",
      "rms: 0.6101576938632856, \n",
      "r2: 0.7885529009455294\n"
     ]
    }
   ],
   "source": [
    "# Simple Linear Regression approach\n",
    "\n",
    "from sklearn.linear_model import LinearRegression\n",
    "from sklearn.metrics import mean_squared_error, r2_score\n",
    "from sklearn.feature_selection import f_regression\n",
    "from sklearn.model_selection import train_test_split\n",
    "import math\n",
    "\n",
    "y = df[['CO(GT)']]#.values.reshape(-1,1)\n",
    "X = dfy#.iloc[:,:].values.reshape(-1,1)\n",
    "\n",
    "X_train, X_test, y_train, y_test = train_test_split(X, y, test_size=0.70, random_state=42)\n",
    "\n",
    "\n",
    "reg_model = LinearRegression().fit(X_train,y_train)\n",
    "score = reg_model.score(X_test,y_test)\n",
    "\n",
    "p = reg.predict(X_test)\n",
    "\n",
    "rms = math.sqrt(mean_squared_error(y_test, p))\n",
    "r2 = r2_score(y_test,p)\n",
    "print(\n",
    "    'score: %s, \\nslope: %s, \\nrms: %s, \\nr2: %s' % (\n",
    "        score, reg_model.coef_, rms, r2\n",
    "    )\n",
    ")\n"
   ]
  },
  {
   "cell_type": "code",
   "execution_count": 58,
   "metadata": {},
   "outputs": [
    {
     "name": "stdout",
     "output_type": "stream",
     "text": [
      "(9357, 1)\n",
      "(9357, 7)\n",
      "[[-0.06062573]\n",
      " [ 0.98538933]\n",
      " [-0.01831758]\n",
      " [ 0.04645682]\n",
      " [ 0.7333882 ]\n",
      " [ 0.04462392]\n",
      " [-0.08022661]]\n",
      "cost:  369.22020758336447\n"
     ]
    },
    {
     "data": {
      "text/plain": [
       "Text(0, 0.5, 'Cost')"
      ]
     },
     "execution_count": 58,
     "metadata": {},
     "output_type": "execute_result"
    },
    {
     "data": {
      "image/png": "[encoded data removed]",
      "text/plain": [
       "<Figure size 432x288 with 1 Axes>"
      ]
     },
     "metadata": {
      "needs_background": "light"
     },
     "output_type": "display_data"
    }
   ],
   "source": [
    "# Linear Regression with Gradient Descent Approach\n",
    "# Q2. 1. a:\n",
    "\n",
    "import matplotlib.pyplot as plt\n",
    "\n",
    "x = dfy.iloc[:, 0:].values.reshape(-1,7)\n",
    "y = df[['CO(GT)']].values.reshape(-1,1)\n",
    "print(y.shape)\n",
    "print(x.shape)\n",
    "cost = np.ones(1000)\n",
    "\n",
    "def gradientDescent(x, y, theta, alpha, m, numIterations):\n",
    "    x_transpose = x.transpose()\n",
    "    for i in range(0, numIterations):\n",
    "        hypothesis = np.dot(x, theta)\n",
    "        loss = hypothesis - y \n",
    "        cost[i] = np.sum(loss ** 2) / (2 * m)\n",
    "        gradient = np.dot(x_transpose, loss) / m \n",
    "        theta = theta - alpha * gradient\n",
    "    return theta\n",
    "\n",
    "print(gradientDescent(x,y,np.ones((7,1)), 0.0000001, 9357, 1000))\n",
    "print('cost: ', cost[999])\n",
    "\n",
    "cost = list(cost)\n",
    "n_iterations = [x for x in range(1,1001)]\n",
    "plt.plot(n_iterations, cost)\n",
    "plt.xlabel('No. of iterations')\n",
    "plt.ylabel('Cost')\n",
    "\n"
   ]
  },
  {
   "cell_type": "code",
   "execution_count": 59,
   "metadata": {},
   "outputs": [
    {
     "name": "stdout",
     "output_type": "stream",
     "text": [
      "score: 0.732555988989203, \n",
      "slope: [-0.00118133  0.00026287  0.001893    0.00344191  0.00012895  0.00027184\n",
      "  0.00039296], \n",
      "rms: 0.6862109830611143, \n",
      "r2: 0.732555988989203\n"
     ]
    },
    {
     "name": "stderr",
     "output_type": "stream",
     "text": [
      "/Library/Frameworks/Python.framework/Versions/3.5/lib/python3.5/site-packages/sklearn/utils/validation.py:761: DataConversionWarning: A column-vector y was passed when a 1d array was expected. Please change the shape of y to (n_samples, ), for example using ravel().\n",
      "  y = column_or_1d(y, warn=True)\n"
     ]
    }
   ],
   "source": [
    "# Stochastic Gradient Descent Approach\n",
    "# Q2. 1. b:\n",
    "\n",
    "\n",
    "import numpy as np\n",
    "from sklearn import linear_model\n",
    "\n",
    "reg_model_stochastic = linear_model.SGDRegressor(max_iter=50000,tol= 0.00001,learning_rate ='constant',eta0 = 0.000000001)\n",
    "reg_model_stochastic.fit(X_train,y_train)\n",
    "p = reg_model_stochastic.predict(X_test)\n",
    "\n",
    "score = reg_model_stochastic.score(X_test,y_test)\n",
    "rms = math.sqrt(mean_squared_error(y_test, p))\n",
    "r2 = r2_score(y_test, p)\n",
    "\n",
    "print(\n",
    "    'score: %s, \\nslope: %s, \\nrms: %s, \\nr2: %s' % (\n",
    "        score, reg_model_stochastic.coef_, rms, r2\n",
    "    )\n",
    ")\n",
    "\n"
   ]
  },
  {
   "cell_type": "code",
   "execution_count": 53,
   "metadata": {},
   "outputs": [
    {
     "name": "stdout",
     "output_type": "stream",
     "text": [
      "score: 0.5137007080466105, \n",
      "slope: [4.15987088e-04 1.00300389e-05 4.46539828e-04 2.82562415e-04\n",
      " 6.72861878e-05 4.58622207e-04 5.65658256e-04], \n",
      "rms: 0.6839907528540259, \n",
      "r2: 0.5137007080466105\n"
     ]
    },
    {
     "name": "stderr",
     "output_type": "stream",
     "text": [
      "/Library/Frameworks/Python.framework/Versions/3.5/lib/python3.5/site-packages/sklearn/utils/validation.py:761: DataConversionWarning: A column-vector y was passed when a 1d array was expected. Please change the shape of y to (n_samples, ), for example using ravel().\n",
      "  y = column_or_1d(y, warn=True)\n",
      "/Library/Frameworks/Python.framework/Versions/3.5/lib/python3.5/site-packages/sklearn/utils/validation.py:761: DataConversionWarning: A column-vector y was passed when a 1d array was expected. Please change the shape of y to (n_samples, ), for example using ravel().\n",
      "  y = column_or_1d(y, warn=True)\n",
      "/Library/Frameworks/Python.framework/Versions/3.5/lib/python3.5/site-packages/sklearn/utils/validation.py:761: DataConversionWarning: A column-vector y was passed when a 1d array was expected. Please change the shape of y to (n_samples, ), for example using ravel().\n",
      "  y = column_or_1d(y, warn=True)\n",
      "/Library/Frameworks/Python.framework/Versions/3.5/lib/python3.5/site-packages/sklearn/utils/validation.py:761: DataConversionWarning: A column-vector y was passed when a 1d array was expected. Please change the shape of y to (n_samples, ), for example using ravel().\n",
      "  y = column_or_1d(y, warn=True)\n",
      "/Library/Frameworks/Python.framework/Versions/3.5/lib/python3.5/site-packages/sklearn/utils/validation.py:761: DataConversionWarning: A column-vector y was passed when a 1d array was expected. Please change the shape of y to (n_samples, ), for example using ravel().\n",
      "  y = column_or_1d(y, warn=True)\n",
      "/Library/Frameworks/Python.framework/Versions/3.5/lib/python3.5/site-packages/sklearn/utils/validation.py:761: DataConversionWarning: A column-vector y was passed when a 1d array was expected. Please change the shape of y to (n_samples, ), for example using ravel().\n",
      "  y = column_or_1d(y, warn=True)\n",
      "/Library/Frameworks/Python.framework/Versions/3.5/lib/python3.5/site-packages/sklearn/utils/validation.py:761: DataConversionWarning: A column-vector y was passed when a 1d array was expected. Please change the shape of y to (n_samples, ), for example using ravel().\n",
      "  y = column_or_1d(y, warn=True)\n",
      "/Library/Frameworks/Python.framework/Versions/3.5/lib/python3.5/site-packages/sklearn/utils/validation.py:761: DataConversionWarning: A column-vector y was passed when a 1d array was expected. Please change the shape of y to (n_samples, ), for example using ravel().\n",
      "  y = column_or_1d(y, warn=True)\n",
      "/Library/Frameworks/Python.framework/Versions/3.5/lib/python3.5/site-packages/sklearn/utils/validation.py:761: DataConversionWarning: A column-vector y was passed when a 1d array was expected. Please change the shape of y to (n_samples, ), for example using ravel().\n",
      "  y = column_or_1d(y, warn=True)\n",
      "/Library/Frameworks/Python.framework/Versions/3.5/lib/python3.5/site-packages/sklearn/utils/validation.py:761: DataConversionWarning: A column-vector y was passed when a 1d array was expected. Please change the shape of y to (n_samples, ), for example using ravel().\n",
      "  y = column_or_1d(y, warn=True)\n",
      "/Library/Frameworks/Python.framework/Versions/3.5/lib/python3.5/site-packages/sklearn/utils/validation.py:761: DataConversionWarning: A column-vector y was passed when a 1d array was expected. Please change the shape of y to (n_samples, ), for example using ravel().\n",
      "  y = column_or_1d(y, warn=True)\n",
      "/Library/Frameworks/Python.framework/Versions/3.5/lib/python3.5/site-packages/sklearn/utils/validation.py:761: DataConversionWarning: A column-vector y was passed when a 1d array was expected. Please change the shape of y to (n_samples, ), for example using ravel().\n",
      "  y = column_or_1d(y, warn=True)\n",
      "/Library/Frameworks/Python.framework/Versions/3.5/lib/python3.5/site-packages/sklearn/utils/validation.py:761: DataConversionWarning: A column-vector y was passed when a 1d array was expected. Please change the shape of y to (n_samples, ), for example using ravel().\n",
      "  y = column_or_1d(y, warn=True)\n",
      "/Library/Frameworks/Python.framework/Versions/3.5/lib/python3.5/site-packages/sklearn/utils/validation.py:761: DataConversionWarning: A column-vector y was passed when a 1d array was expected. Please change the shape of y to (n_samples, ), for example using ravel().\n",
      "  y = column_or_1d(y, warn=True)\n",
      "/Library/Frameworks/Python.framework/Versions/3.5/lib/python3.5/site-packages/sklearn/utils/validation.py:761: DataConversionWarning: A column-vector y was passed when a 1d array was expected. Please change the shape of y to (n_samples, ), for example using ravel().\n",
      "  y = column_or_1d(y, warn=True)\n",
      "/Library/Frameworks/Python.framework/Versions/3.5/lib/python3.5/site-packages/sklearn/utils/validation.py:761: DataConversionWarning: A column-vector y was passed when a 1d array was expected. Please change the shape of y to (n_samples, ), for example using ravel().\n",
      "  y = column_or_1d(y, warn=True)\n",
      "/Library/Frameworks/Python.framework/Versions/3.5/lib/python3.5/site-packages/sklearn/utils/validation.py:761: DataConversionWarning: A column-vector y was passed when a 1d array was expected. Please change the shape of y to (n_samples, ), for example using ravel().\n",
      "  y = column_or_1d(y, warn=True)\n",
      "/Library/Frameworks/Python.framework/Versions/3.5/lib/python3.5/site-packages/sklearn/utils/validation.py:761: DataConversionWarning: A column-vector y was passed when a 1d array was expected. Please change the shape of y to (n_samples, ), for example using ravel().\n",
      "  y = column_or_1d(y, warn=True)\n",
      "/Library/Frameworks/Python.framework/Versions/3.5/lib/python3.5/site-packages/sklearn/utils/validation.py:761: DataConversionWarning: A column-vector y was passed when a 1d array was expected. Please change the shape of y to (n_samples, ), for example using ravel().\n",
      "  y = column_or_1d(y, warn=True)\n",
      "/Library/Frameworks/Python.framework/Versions/3.5/lib/python3.5/site-packages/sklearn/utils/validation.py:761: DataConversionWarning: A column-vector y was passed when a 1d array was expected. Please change the shape of y to (n_samples, ), for example using ravel().\n",
      "  y = column_or_1d(y, warn=True)\n"
     ]
    }
   ],
   "source": [
    "# Mini batch gradient descent\n",
    "# Q2. 1. c:\n",
    "\n",
    "from sklearn.linear_model import SGDRegressor\n",
    "\n",
    "y = df[['CO(GT)']].values\n",
    "X = dfy.iloc[:,:].values\n",
    "\n",
    "X_train, X_test, y_train, y_test = train_test_split(X, y, test_size=0.75, random_state=42)\n",
    "\n",
    " \n",
    "def iter_minibatches(chunksize):\n",
    "    # Provide chunks one by one\n",
    "    chunkstartmarker = 0\n",
    "    while chunkstartmarker < 2000:\n",
    "        #y_chunk = df.iloc[chunkstartmarker:chunkstartmarker+chunksize,0].values.reshape(-1,)\n",
    "        #X_chunk = dfy.iloc[chunkstartmarker:chunkstartmarker+chunksize,:].values.reshape(-1,5)\n",
    "        \n",
    "        y_chunk = y_train[chunkstartmarker:chunkstartmarker+chunksize,:]\n",
    "\n",
    "        X_chunk = X_train[chunkstartmarker:chunkstartmarker+chunksize,:]\n",
    "        #print(X_chunk.shape,y_chunk.shape)\n",
    "        yield X_chunk, y_chunk\n",
    "        chunkstartmarker += chunksize\n",
    " \n",
    "\n",
    "batcherator = iter_minibatches(chunksize=100)\n",
    "model = SGDRegressor(tol= 0.00001,learning_rate ='constant',eta0 = 0.000000001)\n",
    " \n",
    "    # Train model\n",
    "for X_chunk, y_chunk in batcherator:\n",
    "    model.partial_fit(X_chunk, y_chunk)\n",
    "    \n",
    "    \n",
    "y_predicted = model.predict(X_test)\n",
    "score = model.score(X_test,y_test)\n",
    "g = model.predict(X_test)\n",
    "math.sqrt(mean_squared_error(y_test, g))\n",
    "r2 = r2_score(y_test,g)\n",
    "\n",
    "print(\n",
    "    'score: %s, \\nslope: %s, \\nrms: %s, \\nr2: %s' % (\n",
    "        score, model.coef_, rms, r2\n",
    "    )\n",
    ")\n",
    "\n"
   ]
  },
  {
   "cell_type": "code",
   "execution_count": 57,
   "metadata": {},
   "outputs": [],
   "source": [
    "\n",
    "# Q2 2:\n",
    "# From the heatmap as drawn in seaborn (top block q2) we can conclude almost all the pollutntsare\n",
    "# directly related to CO. hence the lowe values of all of them will give us better air quality.\n",
    "# CO(GT) is the dependent variable and relationship with 5 other pollutants has been \n",
    "# established in different regression approaches.\n",
    "# related to CO(GT) with an exception of P3O8.S3(NOx) which is inversely related. \n",
    "# Lower values of all the pollutants and higher value of P3O8.S3(NOx) suggests better Air Quality.\n",
    "\n",
    "# Q2 3\n",
    "# The number of data rows was less than 10000 and so we can use gradient\n",
    "# descent method without Mini batch or Stochastic implementations. \n",
    "# Other methods are good for use in case we have large number of rows and the calculation becomes expensive.\n"
   ]
  },
  {
   "cell_type": "code",
   "execution_count": null,
   "metadata": {},
   "outputs": [],
   "source": []
  }
 ],
 "metadata": {
  "kernelspec": {
   "display_name": "Python 3",
   "language": "python",
   "name": "python3"
  },
  "language_info": {
   "codemirror_mode": {
    "name": "ipython",
    "version": 3
   },
   "file_extension": ".py",
   "mimetype": "text/x-python",
   "name": "python",
   "nbconvert_exporter": "python",
   "pygments_lexer": "ipython3",
   "version": "3.5.4"
  }
 },
 "nbformat": 4,
 "nbformat_minor": 2
}
