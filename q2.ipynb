{
 "cells": [
  {
   "cell_type": "code",
   "execution_count": 1,
   "metadata": {},
   "outputs": [
    {
     "name": "stdout",
     "output_type": "stream",
     "text": [
      "[[2.]\n",
      " [3.]\n",
      " [1.]]\n"
     ]
    }
   ],
   "source": [
    "import numpy as np\n",
    "\"\"\"\n",
    "6x+2y−5z=13\n",
    "3x+3y−2z=13\n",
    "7x+5y−3z=26 \n",
    "\"\"\"\n",
    "\n",
    "A = [[6, 2, -5],\n",
    "[3, 3, -2],\n",
    "[7, 5, -3]]\n",
    "\n",
    "B = [\n",
    "    [13], \n",
    "    [13], \n",
    "    [26]\n",
    "]\n",
    "\n",
    "\"\"\"\n",
    "x = [[x], [y], [z]]\n",
    "A.X = B\n",
    "inv(A).A.X = inv(A).B\n",
    "X = inv(A).B\n",
    "\"\"\"\n",
    "x = np.dot(np.linalg.inv(A), B)\n",
    "print(x)"
   ]
  },
  {
   "cell_type": "code",
   "execution_count": null,
   "metadata": {},
   "outputs": [],
   "source": []
  }
 ],
 "metadata": {
  "kernelspec": {
   "display_name": "Python 3",
   "language": "python",
   "name": "python3"
  },
  "language_info": {
   "codemirror_mode": {
    "name": "ipython",
    "version": 3
   },
   "file_extension": ".py",
   "mimetype": "text/x-python",
   "name": "python",
   "nbconvert_exporter": "python",
   "pygments_lexer": "ipython3",
   "version": "3.5.4"
  }
 },
 "nbformat": 4,
 "nbformat_minor": 2
}
